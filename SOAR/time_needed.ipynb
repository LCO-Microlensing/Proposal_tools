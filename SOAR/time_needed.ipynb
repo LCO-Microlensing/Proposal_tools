{
 "cells": [
  {
   "cell_type": "code",
   "execution_count": 125,
   "id": "6cb1baf9-0096-4a1d-8c60-f506a36900e3",
   "metadata": {},
   "outputs": [],
   "source": [
    "import pandas as pd\n",
    "import numpy as np\n",
    "\n",
    "from scipy import interpolate"
   ]
  },
  {
   "cell_type": "code",
   "execution_count": 209,
   "id": "15be5f87-2ae5-4269-809f-c8fd2ddeca5a",
   "metadata": {},
   "outputs": [],
   "source": [
    "# Simple case, no blend option\n",
    "def mag_at_peak(u_0, mag_baseline):\n",
    "    A = (u_0**2 + 2.) / (u_0 * np.sqrt(u_0**2 + 4.))\n",
    "    mag = mag_baseline - (2.5 * np.log10(A))\n",
    "    return mag"
   ]
  },
  {
   "cell_type": "code",
   "execution_count": 271,
   "id": "0febd225-1844-4abb-885e-112780993ef9",
   "metadata": {},
   "outputs": [],
   "source": [
    "x = [16., 20.]\n",
    "y = [1., 48.]\n",
    "f = interpolate.interp1d(x, y)\n",
    "\n",
    "def soar_etc(mag):\n",
    "    if (mag>=17.) and (mag<=20.):\n",
    "        time = f(mag)\n",
    "    else:\n",
    "        time = 0\n",
    "    return time"
   ]
  },
  {
   "cell_type": "code",
   "execution_count": 211,
   "id": "a19ceb75-378b-4463-9061-c36c25ca5344",
   "metadata": {},
   "outputs": [],
   "source": [
    "def microlensing_mag(t, t_0, u_0, t_E, mag_baseline):\n",
    "    tau = (t - t_0) / t_E\n",
    "    u = np.sqrt(tau**2 + u_0**2)\n",
    "    A = (u**2 + 2.) / (u * np.sqrt(u**2 + 4.))\n",
    "    return mag_baseline - (2.5 * np.log10(A))"
   ]
  },
  {
   "cell_type": "markdown",
   "id": "83e48c86-e7ca-4adf-a770-bc8d1a4bb608",
   "metadata": {},
   "source": [
    "## Load data"
   ]
  },
  {
   "cell_type": "code",
   "execution_count": 212,
   "id": "67512d9a-c203-4b56-8cce-505b461d3111",
   "metadata": {},
   "outputs": [],
   "source": [
    "fname = \"omega_ii.csv\"\n",
    "data = pd.read_csv(fname, header=0)"
   ]
  },
  {
   "cell_type": "code",
   "execution_count": 213,
   "id": "13ce208c-f55c-47b2-a8b7-bec233a2c92d",
   "metadata": {
    "scrolled": true
   },
   "outputs": [
    {
     "name": "stdout",
     "output_type": "stream",
     "text": [
      "name\n",
      "type\n",
      "created\n",
      "modified\n",
      "ra\n",
      "dec\n",
      "epoch\n",
      "parallax\n",
      "pm_ra\n",
      "pm_dec\n",
      "galactic_lng\n",
      "galactic_lat\n",
      "distance\n",
      "distance_err\n",
      "scheme\n",
      "epoch_of_elements\n",
      "mean_anomaly\n",
      "arg_of_perihelion\n",
      "eccentricity\n",
      "lng_asc_node\n",
      "inclination\n",
      "mean_daily_motion\n",
      "semimajor_axis\n",
      "epoch_of_perihelion\n",
      "ephemeris_period\n",
      "ephemeris_period_err\n",
      "ephemeris_epoch\n",
      "ephemeris_epoch_err\n",
      "perihdist\n",
      "basetarget_ptr\n",
      "alive\n",
      "classification\n",
      "category\n",
      "observing_mode\n",
      "sky_location\n",
      "t0\n",
      "t0_error\n",
      "u0\n",
      "u0_error\n",
      "tE\n",
      "tE_error\n",
      "piEN\n",
      "piEN_error\n",
      "piEE\n",
      "piEE_error\n",
      "rho\n",
      "rho_error\n",
      "s\n",
      "s_error\n",
      "q\n",
      "q_error\n",
      "alpha\n",
      "alpha_error\n",
      "source_magnitude\n",
      "source_mag_error\n",
      "blend_magnitude\n",
      "blend_mag_error\n",
      "baseline_magnitude\n",
      "baseline_mag_error\n",
      "gaia_source_id\n",
      "gmag\n",
      "gmag_error\n",
      "rpmag\n",
      "rpmag_error\n",
      "bpmag\n",
      "bpmag_error\n",
      "bprp\n",
      "bprp_error\n",
      "reddening_bprp\n",
      "extinction_g\n",
      "teff\n",
      "logg\n",
      "metallicity\n",
      "ruwe\n",
      "fit_covariance\n",
      "tap_priority\n",
      "tap_priority_error\n",
      "tap_priority_longte\n",
      "tap_priority_longte_error\n",
      "interferometry_mode\n",
      "interferometry_guide_star\n",
      "interferometry_candidate\n",
      "spectras\n",
      "last_fit\n",
      "chi2\n",
      "red_chi2\n",
      "ks_test\n",
      "sw_test\n",
      "ad_test\n",
      "latest_data_hjd\n",
      "latest_data_utc\n",
      "mag_now\n",
      "mag_now_passband\n",
      "mag_peak_J\n",
      "mag_peak_J_error\n",
      "mag_peak_H\n",
      "mag_peak_H_error\n",
      "mag_peak_K\n",
      "mag_peak_K_error\n",
      "mag_base_J\n",
      "mag_base_H\n",
      "mag_base_K\n",
      "interferometry_interval\n",
      "YSO\n",
      "QSO\n",
      "galaxy\n",
      "TNS_name\n",
      "TNS_class\n",
      "Mag_peak_K\n",
      "t0_error.1\n",
      "tE.1\n",
      "TAP_priority_error\n",
      "RPmag\n",
      "rho.1\n",
      "Spectras\n",
      "[Fe/H]\n",
      "q_error.1\n",
      "s.1\n",
      "KS_test\n",
      "Gaia_Source_ID\n",
      "TNS_name.1\n",
      "RPmag_error\n",
      "Mag_peak_H_error\n",
      "Mag_peak_J\n",
      "Alive\n",
      "piEN.1\n",
      "Fit_covariance\n",
      "logg.1\n",
      "is_QSO\n",
      "is_YSO\n",
      "AD_test\n",
      "Gmag_error\n",
      "Interferometry_candidate\n",
      "Extinction_G\n",
      "piEE.1\n",
      "Distance\n",
      "Mag_base_H\n",
      "Last_Fit\n",
      "alpha_error.1\n",
      "TAP_priority\n",
      "chi2.1\n",
      "rho_error.1\n",
      "Latest_data_HJD\n",
      "Mag_peak_H\n",
      "Category\n",
      "TNS_class.1\n",
      "Mag_peak_J_error\n",
      "s_error.1\n",
      "piEN_error.1\n",
      "tE_error.1\n",
      "piEE_error.1\n",
      "YSO.1\n",
      "Baseline_mag_error\n",
      "Classification\n",
      "Mag_peak_K_error\n",
      "Interferometry_guide_star\n",
      "Event_category\n",
      "BPmag_error\n",
      "BP-RP\n",
      "Mag_base_K\n",
      "u0.1\n",
      "Mag_base_J\n",
      "TAP_priority_longtE\n",
      "Mag_now\n",
      "BPmag\n",
      "Source_mag_error\n",
      "Blend_mag_error\n",
      "Latest_data_UTC\n",
      "red_chi2.1\n",
      "Observing_mode\n",
      "q.1\n",
      "Last_fit\n",
      "SW_test\n",
      "TAP_priority_longtE_error\n",
      "Interferometry_mode\n",
      "alpha.1\n",
      "Teff\n",
      "t0.1\n",
      "BP-RP_error\n",
      "Source_magnitude\n",
      "RUWE\n",
      "Gmag\n",
      "u0_error.1\n",
      "Mag_now_passband\n",
      "Reddening(BP-RP)\n",
      "Blend_magnitude\n",
      "QSO.1\n",
      "is_galaxy\n",
      "Sky_location\n",
      "Baseline_magnitude\n",
      "Interferometry_interval\n",
      "galaxy.1\n",
      "name2\n"
     ]
    }
   ],
   "source": [
    "for val in data.columns:\n",
    "    print(val)"
   ]
  },
  {
   "cell_type": "code",
   "execution_count": 214,
   "id": "b873f042-8456-404f-b02c-a47c5669103f",
   "metadata": {
    "scrolled": true
   },
   "outputs": [],
   "source": [
    "data[\"created\"] = pd.to_datetime(data[\"created\"])"
   ]
  },
  {
   "cell_type": "markdown",
   "id": "c25eb7ff-46bf-4712-85fe-996969547cc8",
   "metadata": {},
   "source": [
    "## 2024A Semester targets with 17 < mag_peak < 21"
   ]
  },
  {
   "cell_type": "code",
   "execution_count": 272,
   "id": "ee3744c7-0e9c-49c3-b82b-549a00e5b3bb",
   "metadata": {},
   "outputs": [],
   "source": [
    "mask = (data['created'] > '2024-02-01') & (data['created'] <= '2024-07-31')"
   ]
  },
  {
   "cell_type": "code",
   "execution_count": 273,
   "id": "92b40151-2d7b-4290-981f-55e37f37e3c6",
   "metadata": {},
   "outputs": [],
   "source": [
    "sem_2024A = data[mask]"
   ]
  },
  {
   "cell_type": "code",
   "execution_count": 274,
   "id": "961cc5f3-e429-4467-8f7a-eeb20af165c3",
   "metadata": {},
   "outputs": [
    {
     "name": "stderr",
     "output_type": "stream",
     "text": [
      "/tmp/ipykernel_13877/1237312328.py:3: RuntimeWarning: divide by zero encountered in scalar divide\n",
      "  A = (u_0**2 + 2.) / (u_0 * np.sqrt(u_0**2 + 4.))\n"
     ]
    }
   ],
   "source": [
    "mag_peak = []\n",
    "for i in range(len(sem_2024A[\"u0\"])):\n",
    "    mag = mag_at_peak(sem_2024A[\"u0\"].values[i], sem_2024A[\"baseline_magnitude\"].values[i])\n",
    "    mag_peak.append(mag)\n",
    "    # print(mag_peak[-1])"
   ]
  },
  {
   "cell_type": "code",
   "execution_count": 275,
   "id": "9be91ebc-0bb4-42ba-ba50-8841a9206ef0",
   "metadata": {},
   "outputs": [
    {
     "name": "stderr",
     "output_type": "stream",
     "text": [
      "/tmp/ipykernel_13877/850467683.py:1: SettingWithCopyWarning: \n",
      "A value is trying to be set on a copy of a slice from a DataFrame.\n",
      "Try using .loc[row_indexer,col_indexer] = value instead\n",
      "\n",
      "See the caveats in the documentation: https://pandas.pydata.org/pandas-docs/stable/user_guide/indexing.html#returning-a-view-versus-a-copy\n",
      "  sem_2024A[\"mag_peak\"] = mag_peak\n"
     ]
    }
   ],
   "source": [
    "sem_2024A[\"mag_peak\"] = mag_peak"
   ]
  },
  {
   "cell_type": "code",
   "execution_count": 276,
   "id": "af91ded9-86cf-4be4-9ec6-f46db641f36b",
   "metadata": {
    "scrolled": true
   },
   "outputs": [
    {
     "name": "stdout",
     "output_type": "stream",
     "text": [
      "2 MOA-2024-BLG-019 15.378 -inf\n",
      "3 OGLE-2024-GD-0010 20.146 -inf\n",
      "4 OGLE-2024-GD-0009 19.036 14.765929855878905\n",
      "5 OGLE-2024-BLG-0784 18.449 14.750415854973312\n",
      "6 OGLE-2024-BLG-0724 17.983 15.928826539568016\n",
      "7 OGLE-2024-BLG-0606 19.613 16.149025753294357\n",
      "8 OGLE-2024-BLG-0605 15.94 15.02308880207954\n",
      "9 OGLE-2024-BLG-0604 17.576 16.55313919591707\n",
      "10 OGLE-2024-BLG-0592 14.633 13.900539196435956\n",
      "11 OGLE-2024-BLG-0576 19.45 17.05052696505585\n",
      "12 ZTF24aaiafkl 0.0 -inf\n",
      "13 OGLE-2024-BLG-0485 18.808 16.230555346015656\n",
      "14 OGLE-2024-BLG-0417 18.543 17.681599044596673\n",
      "15 OGLE-2024-BLG-0416 17.464 15.506402693821233\n",
      "16 OGLE-2024-BLG-0394 17.877 17.710572565093596\n",
      "17 OGLE-2024-DG-0011 15.541 14.0438221074346\n",
      "18 OGLE-2024-BLG-0341 18.107 16.203387839099907\n",
      "19 OGLE-2024-BLG-0324 17.282 16.229436483531842\n",
      "20 OGLE-2024-BLG-0280 16.718 16.619533742018685\n",
      "21 OGLE-2024-DG-0005 17.951 16.887720094305802\n",
      "22 OGLE-2024-DG-0004 16.855 16.791059346940774\n",
      "23 OGLE-2024-BLG-0257 16.11 13.543696860584191\n",
      "24 OGLE-2024-BLG-0256 17.906 15.844008065206067\n",
      "25 OGLE-2024-BLG-0253 18.461 15.588010111374054\n",
      "26 OGLE-2024-BLG-0196 17.89 17.49563839772727\n",
      "27 OGLE-2024-BLG-0176 18.778 16.27426356514487\n",
      "28 Gaia24azi 16.341 10.959911469088167\n",
      "29 OGLE-2024-DG-0002 17.45 12.733954178350217\n",
      "30 OGLE-2024-DG-0001 17.117 14.75257502694453\n",
      "31 OGLE-2024-BLG-0111 17.004 15.728521505337705\n",
      "32 OGLE-2024-BLG-0076 17.453 15.760878756669783\n",
      "34 OGLE-2024-BLG-0034 16.191 14.717430213846768\n",
      "36 OGLE-2024-GD-0004 18.92 17.476895110179676\n",
      "37 OGLE-2024-GD-0001 16.322 16.235527361517423\n",
      "38 OGLE-2024-BLG-0013 15.732 14.232817709941603\n",
      "39 OGLE-2024-BLG-0011 17.177 17.027328943125138\n",
      "41 OGLE-2024-BLG-0002 16.125 15.863748877873045\n"
     ]
    }
   ],
   "source": [
    "for i in range(len(sem_2024A[\"u0\"])):\n",
    "    if \"Microlensing\" in sem_2024A[\"classification\"].values[i]:\n",
    "        print(i+1, sem_2024A[\"name\"].values[i], sem_2024A[\"baseline_magnitude\"].values[i], sem_2024A[\"mag_peak\"].values[i])"
   ]
  },
  {
   "cell_type": "code",
   "execution_count": 286,
   "id": "2b66f1c8-0212-4dd5-89ea-5b1ad086262d",
   "metadata": {},
   "outputs": [
    {
     "name": "stdout",
     "output_type": "stream",
     "text": [
      "17 OGLE-2024-DG-0011 15.541 14.80364\n",
      "20 OGLE-2024-BLG-0280 16.718 43.89204\n",
      "23 OGLE-2024-BLG-0257 16.11 53.46686\n",
      "28 Gaia24azi 16.341 12.8084\n",
      "34 OGLE-2024-BLG-0034 16.191 13.20561\n",
      "38 OGLE-2024-BLG-0013 15.732 37.477\n",
      "41 OGLE-2024-BLG-0002 16.125 20.54096\n",
      "Targets for spectroscopy: 7\n"
     ]
    }
   ],
   "source": [
    "num_targets_spec = 0\n",
    "for i in range(len(sem_2024A[\"u0\"])):\n",
    "    if \"Microlensing\" in sem_2024A[\"classification\"].values[i] and (sem_2024A[\"baseline_magnitude\"].values[i] < 17.) and (sem_2024A[\"tap_priority_longte\"].values[i] > 10.):\n",
    "        print(i+1, sem_2024A[\"name\"].values[i], sem_2024A[\"baseline_magnitude\"].values[i], sem_2024A[\"tap_priority_longte\"].values[i])\n",
    "        num_targets_spec += 1\n",
    "\n",
    "print(\"Targets for spectroscopy:\", num_targets_spec)"
   ]
  },
  {
   "cell_type": "code",
   "execution_count": 296,
   "id": "5156fc76-669e-430f-9799-e48e9901de12",
   "metadata": {},
   "outputs": [
    {
     "name": "stdout",
     "output_type": "stream",
     "text": [
      "Time for spectroscopy: 1400.00 min = 23.33 h = 2.33 nights\n"
     ]
    }
   ],
   "source": [
    "num_targets = 10.\n",
    "time_for_spec_per_visit = 70. # mins\n",
    "time_per_target = 2 * time_for_spec_per_visit\n",
    "time_for_spec_semester = num_targets * time_per_target\n",
    "print(\"Time for spectroscopy: %.2f min = %.2f h = %.2f nights\"%(time_for_spec_semester, time_for_spec_semester / 60., time_for_spec_semester / 60. / 10.))"
   ]
  },
  {
   "cell_type": "code",
   "execution_count": 277,
   "id": "6f670b2a-60c7-4ce6-adf3-c6602e4e78ee",
   "metadata": {},
   "outputs": [],
   "source": [
    "# 3 OGLE-2024-GD-0010 20.146 -inf\n",
    "# 4 OGLE-2024-GD-0009 19.036 14.76572156038521\n",
    "# 5 OGLE-2024-BLG-0784 18.449 14.74981889329513\n",
    "# 6 OGLE-2024-BLG-0724 17.983 15.916414003593308\n",
    "# 7 OGLE-2024-BLG-0606 19.613 16.148105941418148\n",
    "# 11 OGLE-2024-BLG-0576 19.45 17.043974077219342\n",
    "# 13 OGLE-2024-BLG-0485 18.808 16.225838135177003\n",
    "# 14 OGLE-2024-BLG-0417 18.543 17.56380067408512\n",
    "# 16 OGLE-2024-BLG-0394 17.877 17.13832764225414\n",
    "# 18 OGLE-2024-BLG-0341 18.107 16.18697718189086\n",
    "# 21 OGLE-2024-DG-0005 17.951 16.808120699959172\n",
    "# 24 OGLE-2024-BLG-0256 17.906 15.831774039249407\n",
    "# 25 OGLE-2024-BLG-0253 18.461 15.585275784890362\n",
    "# 26 OGLE-2024-BLG-0196 17.89 17.18270883056789\n",
    "# 27 OGLE-2024-BLG-0176 18.778 16.268858630802832\n",
    "# 36 OGLE-2024-GD-0004 18.92 17.43815354213615"
   ]
  },
  {
   "cell_type": "markdown",
   "id": "030c02d3-4f03-41ef-867d-9b75a0efd510",
   "metadata": {},
   "source": [
    "Semester 2024A = 16 targets not observable in full for Sinistros"
   ]
  },
  {
   "cell_type": "code",
   "execution_count": 290,
   "id": "ef57bf2c-b9ab-4db1-a5fb-a451c107d7a8",
   "metadata": {},
   "outputs": [
    {
     "name": "stdout",
     "output_type": "stream",
     "text": [
      "2 MOA-2024-BLG-019 0.0\n",
      "3 OGLE-2024-GD-0010 0.0\n",
      "4 OGLE-2024-GD-0009 16143.191712397578\n",
      "5 OGLE-2024-BLG-0784 4573.047524592938\n",
      "6 OGLE-2024-BLG-0724 11117.111266071464\n",
      "7 OGLE-2024-BLG-0606 15718.598267090947\n",
      "8 OGLE-2024-BLG-0605 0\n",
      "9 OGLE-2024-BLG-0604 3468.2001496545486\n",
      "10 OGLE-2024-BLG-0592 0\n",
      "11 OGLE-2024-BLG-0576 16914.0172359134\n",
      "12 ZTF24aaiafkl 0.0\n",
      "13 OGLE-2024-BLG-0485 7187.6372279317875\n",
      "14 OGLE-2024-BLG-0417 16892.66874107484\n",
      "15 OGLE-2024-BLG-0416 6428.741902697033\n",
      "16 OGLE-2024-BLG-0394 10100.955712184059\n",
      "17 OGLE-2024-DG-0011 0\n",
      "18 OGLE-2024-BLG-0341 11120.876615181796\n",
      "19 OGLE-2024-BLG-0324 3460.0640192986593\n",
      "20 OGLE-2024-BLG-0280 0\n",
      "21 OGLE-2024-DG-0005 10733.004125389632\n",
      "22 OGLE-2024-DG-0004 0.0\n",
      "23 OGLE-2024-BLG-0257 0\n",
      "24 OGLE-2024-BLG-0256 5908.137466797785\n",
      "25 OGLE-2024-BLG-0253 3523.6059228020067\n",
      "26 OGLE-2024-BLG-0196 15998.82161547963\n",
      "27 OGLE-2024-BLG-0176 12217.375321758886\n",
      "28 Gaia24azi 0\n",
      "29 OGLE-2024-DG-0002 0\n",
      "30 OGLE-2024-DG-0001 0\n",
      "31 OGLE-2024-BLG-0111 0\n",
      "32 OGLE-2024-BLG-0076 0\n",
      "34 OGLE-2024-BLG-0034 0\n",
      "36 OGLE-2024-GD-0004 17141.977799245684\n",
      "37 OGLE-2024-GD-0001 0\n",
      "38 OGLE-2024-BLG-0013 0\n",
      "39 OGLE-2024-BLG-0011 9190.346044957678\n",
      "41 OGLE-2024-BLG-0002 0\n",
      "Total time: 197838.38 s = 54.96 h = 5.50 nights\n"
     ]
    }
   ],
   "source": [
    "time_per_semester = 0.\n",
    "\n",
    "for i in range(len(sem_2024A[\"u0\"])):\n",
    "    if \"Microlensing\" in sem_2024A[\"classification\"].values[i]:\n",
    "        t_0, u_0, t_E, mag_base = sem_2024A[\"t0\"].values[i], sem_2024A[\"u0\"].values[i], sem_2024A[\"tE\"].values[i], sem_2024A[\"baseline_magnitude\"].values[i]\n",
    "        time = np.arange(t_0 - (1.5 * t_E), t_0 + (1.5 * t_E), 7.)        \n",
    "        time_1 = time[np.where(time < end)]\n",
    "        time_sub = time_1[np.where(time_1 > start)]\n",
    "        # magnitudes_all = microlensing_mag(time, t_0, u_0, t_E, mag_base)\n",
    "        mags = microlensing_mag(time_sub, t_0, u_0, t_E, mag_base)\n",
    "        time_needed = []\n",
    "        for magnitude in mags:\n",
    "            #add overheads per target obs + exposure time\n",
    "            # pessimistic scenario: 5 min slew + 2 min target acquisition\n",
    "            time_night = soar_etc(magnitude)\n",
    "            if (time_night > 0.):\n",
    "                time_needed.append((7. * soar_etc(magnitude)) + (7. * 60.) + 60.)\n",
    "            else:\n",
    "                time_needed.append(soar_etc(magnitude))\n",
    "    \n",
    "        time_needed = np.asarray(time_needed)\n",
    "        time_sum_per_event = np.sum(time_needed)\n",
    "        time_per_semester += time_sum_per_event\n",
    "    \n",
    "        print(i+1, sem_2024A[\"name\"].values[i], time_sum_per_event)\n",
    "\n",
    "print(\"Total time: %.2f s = %.2f h = %.2f nights\"%(time_per_semester, time_per_semester / 3600., time_per_semester / 3600. / 10.))"
   ]
  },
  {
   "cell_type": "code",
   "execution_count": 297,
   "id": "6386ad56-fcf7-4145-a7e3-07cf212c61af",
   "metadata": {},
   "outputs": [
    {
     "name": "stdout",
     "output_type": "stream",
     "text": [
      "4.6925\n",
      "10.333333333333334\n"
     ]
    }
   ],
   "source": [
    "print(16893 / 60. / 60.)\n",
    "print((70. - 23.5) / 4.5)"
   ]
  },
  {
   "cell_type": "markdown",
   "id": "32397bbe-a0b0-4280-b790-cf750e563e15",
   "metadata": {},
   "source": [
    "### Calculate time needed on SOAR"
   ]
  },
  {
   "cell_type": "code",
   "execution_count": 254,
   "id": "971700a1-8909-4991-ab6b-5bb08b9bb867",
   "metadata": {},
   "outputs": [
    {
     "name": "stdout",
     "output_type": "stream",
     "text": [
      "1 OGLE-2024-BLG-0417 630.3812487249772\n",
      "2 OGLE-2024-BLG-0394 345.85081602629396\n",
      "Total time: 976.23 s = 0.27 h\n"
     ]
    }
   ],
   "source": [
    "# targets only visible for SOAR\n",
    "soar_only = sem_2024A[sem_2024A[\"mag_peak\"] > 17.5]\n",
    "start, end = 2460341.5, 2460522.5\n",
    "time_per_semester = 0\n",
    "\n",
    "for i in range(len(soar_only[\"u0\"])):\n",
    "    if \"Microlensing\" in soar_only[\"classification\"].values[i]:\n",
    "        t_0, u_0, t_E, mag_base = soar_only[\"t0\"].values[i], soar_only[\"u0\"].values[i], soar_only[\"tE\"].values[i], soar_only[\"baseline_magnitude\"].values[i]\n",
    "        time = np.arange(t_0 - (1.5 * t_E), t_0 + (1.5 * t_E), 7.)        \n",
    "        time_1 = time[np.where(time < end)]\n",
    "        time_sub = time_1[np.where(time_1 > start)]\n",
    "        # magnitudes_all = microlensing_mag(time, t_0, u_0, t_E, mag_base)\n",
    "        mags = microlensing_mag(time_sub, t_0, u_0, t_E, mag_base)\n",
    "        time_needed = []\n",
    "        for magnitude in mags:\n",
    "            time_needed.append(soar_etc(magnitude))\n",
    "        time_needed = np.asarray(time_needed)\n",
    "        time_sum_per_event = np.sum(time_needed)\n",
    "        time_per_semester += time_sum_per_event\n",
    "    \n",
    "        print(i+1, soar_only[\"name\"].values[i], time_sum_per_event)\n",
    "\n",
    "print(\"Total time: %.2f s = %.2f h\"%(time_per_semester, time_per_semester / 3600.))"
   ]
  },
  {
   "cell_type": "markdown",
   "id": "4d729906-0517-4dd3-8274-a5c8ac24d57a",
   "metadata": {},
   "source": [
    "## Semester 2023B targets"
   ]
  },
  {
   "cell_type": "code",
   "execution_count": 222,
   "id": "b7f088a3-a30a-495f-9001-83eb36d84636",
   "metadata": {},
   "outputs": [],
   "source": [
    "fname = \"omega_ii.csv\"\n",
    "data = pd.read_csv(fname, header=0)\n",
    "data[\"created\"] = pd.to_datetime(data[\"created\"])"
   ]
  },
  {
   "cell_type": "code",
   "execution_count": 223,
   "id": "8e8137d6-cab3-4c2c-9b3d-a43fb53a2200",
   "metadata": {},
   "outputs": [],
   "source": [
    "mask = (data['created'] > '2023-08-01') & (data['created'] <= '2024-01-31')\n",
    "sem_2023B = data[mask]"
   ]
  },
  {
   "cell_type": "code",
   "execution_count": 225,
   "id": "d3e268c0-6907-418d-8f2f-14f93ebfac3d",
   "metadata": {},
   "outputs": [
    {
     "name": "stderr",
     "output_type": "stream",
     "text": [
      "/tmp/ipykernel_13877/1237312328.py:3: RuntimeWarning: divide by zero encountered in scalar divide\n",
      "  A = (u_0**2 + 2.) / (u_0 * np.sqrt(u_0**2 + 4.))\n"
     ]
    }
   ],
   "source": [
    "mag_peak = []\n",
    "for i in range(len(sem_2023B[\"u0\"])):\n",
    "    mag = mag_at_peak(sem_2023B[\"u0\"].values[i], sem_2023B[\"baseline_magnitude\"].values[i])\n",
    "    mag_peak.append(mag)\n",
    "    # if \"Microlensing\" in sem_2023B[\"classification\"].values[i]:\n",
    "    #     print(i+1, sem_2023B[\"name\"].values[i], sem_2023B[\"baseline_magnitude\"].values[i], mag)"
   ]
  },
  {
   "cell_type": "code",
   "execution_count": 226,
   "id": "788caac4-f631-41d1-8c90-d9508b097483",
   "metadata": {},
   "outputs": [
    {
     "name": "stderr",
     "output_type": "stream",
     "text": [
      "/tmp/ipykernel_13877/1158316010.py:1: SettingWithCopyWarning: \n",
      "A value is trying to be set on a copy of a slice from a DataFrame.\n",
      "Try using .loc[row_indexer,col_indexer] = value instead\n",
      "\n",
      "See the caveats in the documentation: https://pandas.pydata.org/pandas-docs/stable/user_guide/indexing.html#returning-a-view-versus-a-copy\n",
      "  sem_2023B[\"mag_peak\"] = mag_peak\n"
     ]
    }
   ],
   "source": [
    "sem_2023B[\"mag_peak\"] = mag_peak"
   ]
  },
  {
   "cell_type": "code",
   "execution_count": 227,
   "id": "9dc69618-1d1b-4af1-a61a-e016bff8f123",
   "metadata": {},
   "outputs": [
    {
     "name": "stdout",
     "output_type": "stream",
     "text": [
      "1 Gaia24acn 21.809 17.137972021205528\n",
      "11 Gaia23dau 18.09 17.715475866522088\n",
      "13 OGLE-2023-BLG-1322 17.29 16.493010857018504\n",
      "17 OGLE-2023-GD-0011 17.057 -inf\n",
      "21 Gaia23crp 18.743 17.339476571605037\n",
      "22 Gaia23cri 19.544 16.230471664322042\n",
      "23 OGLE-2023-DG-0041 19.143 -inf\n",
      "24 OGLE-2023-DG-0040 17.198 14.374391546313039\n",
      "28 OGLE-2023-BLG-1281 18.519 16.528100440764625\n",
      "29 OGLE-2023-DG-0039 17.854 15.63768623773964\n",
      "35 Gaia23cnu 17.182 15.376008157027822\n",
      "37 OGLE-2023-BLG-1267 16.952 16.76292802279335\n",
      "44 OGLE-2023-BLG-1262 16.634 15.35174561178442\n",
      "75 OGLE-2023-BLG-1060 18.141 14.263216416737322\n",
      "76 OGLE-2023-BLG-0758 16.165 14.886817419051528\n",
      "77 OGLE-2023-BLG-0312 16.368 16.11497170732442\n",
      "78 OGLE-2023-DG-0002 17.925 17.283898635852264\n"
     ]
    }
   ],
   "source": [
    "for i in range(len(sem_2023B[\"u0\"])):\n",
    "    if \"Microlensing\" in sem_2023B[\"classification\"].values[i]:\n",
    "        print(i+1, sem_2023B[\"name\"].values[i], sem_2023B[\"baseline_magnitude\"].values[i], sem_2023B[\"mag_peak\"].values[i])"
   ]
  },
  {
   "cell_type": "code",
   "execution_count": 228,
   "id": "b2688746-3ff6-4869-a9d0-41e8143e54a8",
   "metadata": {},
   "outputs": [],
   "source": [
    "# 1 Gaia24acn 21.809 17.137872505449696\n",
    "# 11 Gaia23dau 18.09 17.387722584844585\n",
    "# 21 Gaia23crp 18.743 17.297743960171935\n",
    "# 22 Gaia23cri 19.544 16.229257955210173\n",
    "# 23 OGLE-2023-DG-0041 19.143 -inf\n",
    "# 28 OGLE-2023-BLG-1281 18.519 16.514143363457205\n",
    "# 29 OGLE-2023-DG-0039 17.854 15.62849245167498\n",
    "# 75 OGLE-2023-BLG-1060 18.141 14.262787321885977\n",
    "# 78 OGLE-2023-DG-0002 17.925 17.100539705278752"
   ]
  },
  {
   "cell_type": "markdown",
   "id": "31ae0b0e-a09d-4a0e-88dd-b2435832f87e",
   "metadata": {},
   "source": [
    "Nine targets in 2023B semester"
   ]
  },
  {
   "cell_type": "code",
   "execution_count": 266,
   "id": "401e975a-444b-4d0d-a08a-0212347db44f",
   "metadata": {},
   "outputs": [
    {
     "name": "stdout",
     "output_type": "stream",
     "text": [
      "225.36485\n"
     ]
    }
   ],
   "source": [
    "i = 7\n",
    "t_0, u_0, t_E, mag_base = sem_2023B[\"t0\"].values[i], sem_2023B[\"u0\"].values[i], sem_2023B[\"tE\"].values[i], sem_2023B[\"baseline_magnitude\"].values[i]\n",
    "time = np.arange(t_0 - (5 * t_E), t_0 + (5 * t_E), 7.)\n",
    "print(t_E)"
   ]
  },
  {
   "cell_type": "code",
   "execution_count": 267,
   "id": "57028a44-364f-491f-81b5-1c5bbe06134c",
   "metadata": {},
   "outputs": [],
   "source": [
    "start, end = 2460341.5, 2460522.5\n",
    "time_1 = time[np.where(time < end)]\n",
    "time_sub = time_1[np.where(time_1 > start)]"
   ]
  },
  {
   "cell_type": "code",
   "execution_count": 268,
   "id": "3a87ee2f-a511-4ec3-b1de-1e6d0ef409c2",
   "metadata": {},
   "outputs": [
    {
     "name": "stdout",
     "output_type": "stream",
     "text": [
      "[39.91670528 40.99922651 41.97807017 42.86771419 43.67979845 44.42381895\n",
      " 45.1076276  45.737797   46.3198907  46.85866604 47.35822858 47.82215101\n",
      "  0.          0.          0.          0.          0.          0.\n",
      "  0.          0.          0.          0.          0.          0.\n",
      "  0.          0.        ]\n"
     ]
    }
   ],
   "source": [
    "magnitudes_all = microlensing_mag(time, t_0, u_0, t_E, mag_base)\n",
    "mags = microlensing_mag(time_sub, t_0, u_0, t_E, mag_base)\n",
    "time_needed = []\n",
    "for magnitude in mags:\n",
    "    time_needed.append(soar_etc(magnitude))\n",
    "time_needed = np.asarray(time_needed)\n",
    "print(time_needed)"
   ]
  },
  {
   "cell_type": "code",
   "execution_count": 269,
   "id": "8f9703af-8771-433b-99ac-01d543584712",
   "metadata": {},
   "outputs": [
    {
     "data": {
      "image/png": "[encoded data removed]",
      "text/plain": [
       "<Figure size 640x480 with 1 Axes>"
      ]
     },
     "metadata": {},
     "output_type": "display_data"
    }
   ],
   "source": [
    "import matplotlib.pyplot as plt\n",
    "\n",
    "fig = plt.figure()\n",
    "plt.plot(time, magnitudes_all, ls='--')\n",
    "plt.plot(time_sub, mags, ls='-')\n",
    "plt.axvline(x=t_0)\n",
    "plt.axvline(x=t_0 - t_E)\n",
    "plt.axvline(x=t_0 + t_E)\n",
    "plt.axhline(y=sem_2023B[\"mag_peak\"].values[i])\n",
    "plt.axhline(y=sem_2023B[\"baseline_magnitude\"].values[i])\n",
    "plt.show()"
   ]
  },
  {
   "cell_type": "code",
   "execution_count": null,
   "id": "c41ecc35-da03-4257-a6c4-baa5e4b6abc4",
   "metadata": {},
   "outputs": [],
   "source": []
  }
 ],
 "metadata": {
  "kernelspec": {
   "display_name": "Python 3 (ipykernel)",
   "language": "python",
   "name": "python3"
  },
  "language_info": {
   "codemirror_mode": {
    "name": "ipython",
    "version": 3
   },
   "file_extension": ".py",
   "mimetype": "text/x-python",
   "name": "python",
   "nbconvert_exporter": "python",
   "pygments_lexer": "ipython3",
   "version": "3.10.12"
  }
 },
 "nbformat": 4,
 "nbformat_minor": 5
}
